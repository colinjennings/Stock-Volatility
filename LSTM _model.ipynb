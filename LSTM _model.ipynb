{
 "cells": [
  {
   "metadata": {},
   "cell_type": "markdown",
   "source": "LSTM (Long short-term memory) model\n",
   "id": "5cf4af4b3c107158"
  },
  {
   "metadata": {
    "ExecuteTime": {
     "end_time": "2025-04-09T00:07:10.984078Z",
     "start_time": "2025-04-09T00:07:10.871126Z"
    }
   },
   "cell_type": "code",
   "source": [
    "import yfinance as yf\n",
    "import pandas as pd\n",
    "import requests\n",
    "from io import StringIO\n",
    "import time\n",
    "from tqdm import tqdm\n",
    "import numpy as np\n",
    "\n",
    "# scrape the S&P 500 from wikipedia\n",
    "wiki_url = \"https://en.wikipedia.org/wiki/List_of_S%26P_500_companies\"\n",
    "\n",
    "response = requests.get(wiki_url)\n",
    "\n",
    "# wrap the text in StringIO object to prevent Pandas \"future warning\"\n",
    "wiki_tables = pd.read_html(StringIO(response.text))\n",
    "\n",
    "# the first table is the relevant one\n",
    "sp500_table = wiki_tables[0]\n",
    "\n",
    "# get the stock tickers\n",
    "ticker_list = sp500_table[\"Symbol\"].tolist()\n",
    "\n",
    "# replace the dots with dashes to be compatible with yahoo finance api\n",
    "ticker_list = [ticker.replace(\".\",\"-\") for ticker in ticker_list]\n",
    "\n",
    "# For testing, only use 50 tickers:\n",
    "ticker_list = ticker_list[:50]\n",
    "\n",
    "# look at a 5 year window\n",
    "start_date = \"2020-01-01\"\n",
    "end_date = \"2025-01-01\"\n",
    "\n",
    "\n",
    "def get_stock_data(ticker, start_date=start_date, end_date=end_date):\n",
    "    \"\"\" Gets the historic data for a stock based on the ticker and a date range.\n",
    "\n",
    "    Args:\n",
    "        ticker (str): The stock ticker\n",
    "    Returns:\n",
    "        stock (Pandas DataFrame): time-series historical data for a stock\n",
    "    \"\"\"\n",
    "\n",
    "    temp_df = yf.download(ticker, start=start_date, end=end_date, progress=False, auto_adjust=True)\n",
    "\n",
    "    # remove the ticker column -- the ticker will be found in the filename\n",
    "    temp_df.columns = temp_df.columns.droplevel(1)\n",
    "\n",
    "    return temp_df\n",
    "\n",
    "\n",
    "# list of dataframes, each being stock data\n",
    "all_stock_data = []\n",
    "\n",
    "# we use tqdm to create a useful progress bar\n",
    "for ticker in tqdm(ticker_list, desc=\"Downloading stocks...\"):\n",
    "\n",
    "    temp_df = get_stock_data(ticker)\n",
    "\n",
    "    # check if empty or full of NaN (happens when spamming api)\n",
    "    if temp_df.empty or temp_df.isna().all().all():\n",
    "        print(f\"Error getting {ticker}\")\n",
    "    else:\n",
    "         all_stock_data.append(temp_df)\n",
    "\n",
    "    # prevents too many api calls\n",
    "    time.sleep(1)\n",
    "\n",
    "\n",
    "print(f\"Collected {len(all_stock_data)} stocks\")\n"
   ],
   "id": "99a752919257ac56",
   "outputs": [
    {
     "ename": "ModuleNotFoundError",
     "evalue": "No module named 'yfinance'",
     "output_type": "error",
     "traceback": [
      "\u001B[31m---------------------------------------------------------------------------\u001B[39m",
      "\u001B[31mModuleNotFoundError\u001B[39m                       Traceback (most recent call last)",
      "\u001B[36mCell\u001B[39m\u001B[36m \u001B[39m\u001B[32mIn[1]\u001B[39m\u001B[32m, line 1\u001B[39m\n\u001B[32m----> \u001B[39m\u001B[32m1\u001B[39m \u001B[38;5;28;01mimport\u001B[39;00m\u001B[38;5;250m \u001B[39m\u001B[34;01myfinance\u001B[39;00m\u001B[38;5;250m \u001B[39m\u001B[38;5;28;01mas\u001B[39;00m\u001B[38;5;250m \u001B[39m\u001B[34;01myf\u001B[39;00m\n\u001B[32m      2\u001B[39m \u001B[38;5;28;01mimport\u001B[39;00m\u001B[38;5;250m \u001B[39m\u001B[34;01mpandas\u001B[39;00m\u001B[38;5;250m \u001B[39m\u001B[38;5;28;01mas\u001B[39;00m\u001B[38;5;250m \u001B[39m\u001B[34;01mpd\u001B[39;00m\n\u001B[32m      3\u001B[39m \u001B[38;5;28;01mimport\u001B[39;00m\u001B[38;5;250m \u001B[39m\u001B[34;01mrequests\u001B[39;00m\n",
      "\u001B[31mModuleNotFoundError\u001B[39m: No module named 'yfinance'"
     ]
    }
   ],
   "execution_count": 1
  }
 ],
 "metadata": {
  "kernelspec": {
   "display_name": "Python 3",
   "language": "python",
   "name": "python3"
  },
  "language_info": {
   "codemirror_mode": {
    "name": "ipython",
    "version": 2
   },
   "file_extension": ".py",
   "mimetype": "text/x-python",
   "name": "python",
   "nbconvert_exporter": "python",
   "pygments_lexer": "ipython2",
   "version": "2.7.6"
  }
 },
 "nbformat": 4,
 "nbformat_minor": 5
}
